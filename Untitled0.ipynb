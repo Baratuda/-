{
  "nbformat": 4,
  "nbformat_minor": 0,
  "metadata": {
    "colab": {
      "provenance": [],
      "authorship_tag": "ABX9TyPaydEKeBNsUP1Lh1Mv3oj1",
      "include_colab_link": true
    },
    "kernelspec": {
      "name": "python3",
      "display_name": "Python 3"
    },
    "language_info": {
      "name": "python"
    }
  },
  "cells": [
    {
      "cell_type": "markdown",
      "metadata": {
        "id": "view-in-github",
        "colab_type": "text"
      },
      "source": [
        "<a href=\"https://colab.research.google.com/github/Baratuda/-/blob/main/Untitled0.ipynb\" target=\"_parent\"><img src=\"https://colab.research.google.com/assets/colab-badge.svg\" alt=\"Open In Colab\"/></a>"
      ]
    },
    {
      "cell_type": "code",
      "execution_count": 24,
      "metadata": {
        "colab": {
          "base_uri": "https://localhost:8080/"
        },
        "id": "wz-Lq2G38RRa",
        "outputId": "2210303f-d08f-4d03-b2cc-68667f5a2e28"
      },
      "outputs": [
        {
          "output_type": "stream",
          "name": "stdout",
          "text": [
            "Mean price house value with population [0,500] is 206800$\n",
            "Maximum households in the zone of the minimum population value is 4.0\n"
          ]
        }
      ],
      "source": [
        "import pandas as pd\n",
        "data = pd.read_csv('sample_data/california_housing_train.csv')\n",
        "population = data.population\n",
        "\n",
        "result_task1 = data.loc[(population>=0) & (population<=500),'median_house_value'].mean()\n",
        "result_task2 = data.loc[(population == population.min()),'households'].max()\n",
        "\n",
        "print(f\"Mean price house value with population [0,500] is {round(result_task1)}$\")\n",
        "print(f\"Maximum households in the zone of the minimum population value is {result_task2}\" )"
      ]
    }
  ]
}